{
 "cells": [
  {
   "cell_type": "markdown",
   "id": "2fc8af80-f143-4d86-a91f-4717266db27b",
   "metadata": {},
   "source": [
    "# Ajay Ranganathan\n",
    "Notebook for assignment 7"
   ]
  },
  {
   "cell_type": "code",
   "execution_count": 8,
   "id": "28e71cf5-87bb-44c8-b401-05c6ef6a0bc9",
   "metadata": {
    "tags": []
   },
   "outputs": [
    {
     "data": {
      "text/plain": [
       "5.0"
      ]
     },
     "execution_count": 8,
     "metadata": {},
     "output_type": "execute_result"
    }
   ],
   "source": [
    "def compute_mean(sample):\n",
    "    return sum(sample)/len(sample)\n",
    "compute_mean([2, 4, 6, 8])"
   ]
  },
  {
   "cell_type": "markdown",
   "id": "f14e207c-5f37-4dd8-9f78-8ae85056f207",
   "metadata": {},
   "source": [
    "This code will return the average of any sample data set that you put into the brackets. It does this by calculating the sum of the sample and then dividing by the number of samples and therefore finding the arithmetic mean. \n",
    "A formula for it has been written in $ Latex $\n",
    "\n",
    "$$\n",
    "\\begin{equation}\n",
    "\\bar{x}=\\frac{{x_1}+{x_2}+ . . . +{x_n}} {n}= \\frac{\\sum_{i=1}^{n}x_{i}} {n}\n",
    "\\end{equation}\n",
    "$$"
   ]
  },
  {
   "cell_type": "code",
   "execution_count": null,
   "id": "b627e835-a594-4136-b715-1b4b7680e9db",
   "metadata": {},
   "outputs": [],
   "source": []
  }
 ],
 "metadata": {
  "kernelspec": {
   "display_name": "Python 3 (ipykernel)",
   "language": "python",
   "name": "python3"
  },
  "language_info": {
   "codemirror_mode": {
    "name": "ipython",
    "version": 3
   },
   "file_extension": ".py",
   "mimetype": "text/x-python",
   "name": "python",
   "nbconvert_exporter": "python",
   "pygments_lexer": "ipython3",
   "version": "3.10.11"
  }
 },
 "nbformat": 4,
 "nbformat_minor": 5
}
